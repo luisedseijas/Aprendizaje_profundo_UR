{
 "cells": [
  {
   "cell_type": "markdown",
   "metadata": {
    "id": "eZIDBUsQ6CF8"
   },
   "source": [
    "# **Python: Descripción general**\n",
    "\n",
    "Python es un un lenguaje de programación dinámica de alto nivel orientado a objetos desarrollado por Guido van Rossum en el año 1991. Python es un lenguaje\n",
    "extensible, es decir que se puede interconectar con bibliotecas escritas en otros lenguajes como C/C++. Los tipos de datos empleados en Python, por ejemplo\n",
    "diccionarios y matrices son más flexibles a nivel superior. Pero la mayor ventaja de Python es que ofrece una enorme cantidad de bibliotecas, compatibles con múltiples plataformas MacOS, Linux o Windows.\n",
    "\n",
    "Las distribuciones oficiales de python pueden descargarse de [python.org](https://python.org). Existe una gran cantidad de paquetes o distribuciones especializados dependiendo del área de interés. Por ejemplo, existen distribuciones específicas que se pueden emplear en aplicaciones de sistemas embebidos, machine learning o IoT.\n",
    "\n",
    "En este notebook, vamos a repasar fundamentos de Python. Se tratará de cubrir:\n",
    "\n",
    "*   Tipos de datos\n",
    "*   Estructuras de datos\n",
    "*   Condicionales\n",
    "*   Bucles\n",
    "*   Funciones\n",
    "*   Bases de la programación orientada a objetos\n"
   ]
  },
  {
   "cell_type": "markdown",
   "metadata": {
    "id": "hfVfz0eLAT4P"
   },
   "source": [
    "## **Variables**\n",
    "\n",
    "Estas almacenan valores en direcciones de memoria reservadas. Las variables son asiganadas empleando el signo (``` = ```) al tipo de dato. Dado que python es un lenguaje de programación dinámicamente tipado, no se requiere declarar el tipo de variable antes usarlo. Las variables básicas de Python son:\n",
    "\n",
    "*   números (float, int)\n",
    "*   listas (list)\n",
    "*   tuplas (tuplas)\n",
    "*   cádenas de caracteres (strings)\n",
    "*   diccionarios (dict)\n",
    "\n",
    "\n",
    "\n",
    "\n"
   ]
  },
  {
   "cell_type": "markdown",
   "metadata": {
    "id": "OoZjFY5gIbhK"
   },
   "source": [
    "### *Números*\n",
    "Los números más comunmente empleados son enteros, números de punto flotante y números complejos."
   ]
  },
  {
   "cell_type": "code",
   "execution_count": 22,
   "metadata": {
    "executionInfo": {
     "elapsed": 646,
     "status": "ok",
     "timestamp": 1737085998173,
     "user": {
      "displayName": "luis eduardo seijas ruiz",
      "userId": "15500502025174640084"
     },
     "user_tz": 300
    },
    "id": "dOa42mC-5oni"
   },
   "outputs": [],
   "source": [
    "my_int = 10             # asigna un entero\n",
    "my_float = 10.5         # asigna un número de punto flotante\n",
    "my_complex = 10 + 5j    # asigna un número complejo"
   ]
  },
  {
   "cell_type": "markdown",
   "metadata": {
    "id": "1Y6sZLpt556W"
   },
   "source": [
    "### *Listas*\n",
    "\n",
    "Es una colección de elementos ordenados separados por comas, que pueden pertenecer a diferentes tipos de datos, y que se encuentran encerrados entre [ ].\n",
    "\n"
   ]
  },
  {
   "cell_type": "code",
   "execution_count": 23,
   "metadata": {
    "executionInfo": {
     "elapsed": 1,
     "status": "ok",
     "timestamp": 1737085998173,
     "user": {
      "displayName": "luis eduardo seijas ruiz",
      "userId": "15500502025174640084"
     },
     "user_tz": 300
    },
    "id": "U8N1E8bnD-4u"
   },
   "outputs": [],
   "source": [
    "my_list_a = [5, 6, 7, 8, 9]     # Define una lista y la asigna a la variable"
   ]
  },
  {
   "cell_type": "markdown",
   "metadata": {
    "id": "ZMisuL2fElu-"
   },
   "source": [
    "Los elementos de una lista pueden pertenecer a diferentes tipos de datos. Incluso pueden contener otras listas."
   ]
  },
  {
   "cell_type": "code",
   "execution_count": 24,
   "metadata": {
    "executionInfo": {
     "elapsed": 7,
     "status": "ok",
     "timestamp": 1737085998735,
     "user": {
      "displayName": "luis eduardo seijas ruiz",
      "userId": "15500502025174640084"
     },
     "user_tz": 300
    },
    "id": "0j0h6Yn3Ev55"
   },
   "outputs": [],
   "source": [
    "my_list_b = ['Hola', 3.5, 10, 10.5 + 3j]     # Define una lista y la asigna a la variable\n",
    "my_list_c = [my_list_a, my_list_b]           # Listas anidadas"
   ]
  },
  {
   "cell_type": "markdown",
   "metadata": {
    "id": "P54YsZ5UEPaZ"
   },
   "source": [
    "Los elementos de una lista se pueden extraer utilizando corchetes. Dado que Python facilita la indexación negativa, el último elemento de la lista se puede extraer utilizando el índice [−1] y el penúltimo utilizando [−2], y así sucesivamente. Además, se pueden extraer varios elementos de la lista utilizando el operador de segmentación : (dos puntos)."
   ]
  },
  {
   "cell_type": "code",
   "execution_count": null,
   "metadata": {
    "colab": {
     "base_uri": "https://localhost:8080/"
    },
    "executionInfo": {
     "elapsed": 7,
     "status": "ok",
     "timestamp": 1737085998735,
     "user": {
      "displayName": "luis eduardo seijas ruiz",
      "userId": "15500502025174640084"
     },
     "user_tz": 300
    },
    "id": "NZqHZrgpEhHi",
    "outputId": "d8507d3c-5704-416d-f1fa-5c825b5c74b0"
   },
   "outputs": [],
   "source": [
    "my_list_d = [1, 2, 3, 4, 5, 6, 7]\n",
    "print(my_list_d[0])         # Extrae el primer elemento de la lista\n",
    "print(my_list_d[1])         # Extrae el segundo elemento de la lista\n",
    "print(my_list_d[-1])        # Extrae el último elemento de la lista\n",
    "print(my_list_d[2:4])       # Imprime [3, 4]\n",
    "my_list_e = [1, 4, [6, 12]] # Define y asigna una lista\n",
    "print(my_list_e[2][1])      # Extrae el segundo elemento de la lista anidada 12"
   ]
  },
  {
   "cell_type": "markdown",
   "metadata": {
    "id": "VdVD_bP5Gb4S"
   },
   "source": [
    "Los elementos de una lista pueden ser modificados, el orden de los valores puede ser alterado y cada valor individual puede ser reemplazado incluso después de que la lista haya sido creada. Por esta razón, las listas se clasifican como un tipo de dato mutable. No obstante, debido a esta característica, Python reserva un bloque de memoria adicional que permite extender su tamaño según sea necesario."
   ]
  },
  {
   "cell_type": "code",
   "execution_count": null,
   "metadata": {
    "colab": {
     "base_uri": "https://localhost:8080/"
    },
    "executionInfo": {
     "elapsed": 7,
     "status": "ok",
     "timestamp": 1737085998735,
     "user": {
      "displayName": "luis eduardo seijas ruiz",
      "userId": "15500502025174640084"
     },
     "user_tz": 300
    },
    "id": "lvu8pnXvGnVi",
    "outputId": "b6231e35-45ea-4ead-c56b-96cf90a05406"
   },
   "outputs": [],
   "source": [
    "my_list_f =  [2, 4, 6, 8, 10]\n",
    "my_list_f[0] = 'Hola me cambiaron'             # Cambia el primer elemento de la lista\n",
    "print(my_list_f)                               # Salida ['Hola me cambiaron', 4, 6, 8, 10]"
   ]
  },
  {
   "cell_type": "markdown",
   "metadata": {
    "id": "Or1rBYtHHGst"
   },
   "source": [
    "Finalmente, una lista permite al usuario añadir o eliminar elementos muy fácil."
   ]
  },
  {
   "cell_type": "code",
   "execution_count": null,
   "metadata": {
    "colab": {
     "base_uri": "https://localhost:8080/"
    },
    "executionInfo": {
     "elapsed": 6,
     "status": "ok",
     "timestamp": 1737085998735,
     "user": {
      "displayName": "luis eduardo seijas ruiz",
      "userId": "15500502025174640084"
     },
     "user_tz": 300
    },
    "id": "tCzk7DUPHSGz",
    "outputId": "28ed93f2-9f44-41ff-d80d-1bc91a9f064c"
   },
   "outputs": [],
   "source": [
    "my_list_g = [10, 20, 30, 'primero', 'segundo']\n",
    "del my_list_g[0]                              # Elimina el primer elemento de la lista\n",
    "print(my_list_g)                              # Salida [20, 30, 'primero', 'segundo']\n",
    "my_list_g.remove(20)                          # Elimina 20\n",
    "print(my_list_g)                              # Salida [30, 'primero', 'segundo']\n",
    "my_list_h = [10, 20, 30]\n",
    "my_list_h.extend([4, 5])\n",
    "print(my_list_h)                              # Salida [10, 20, 30, 4, 5]\n",
    "my_list_h.append([4, 5])\n",
    "print(my_list_h)                              # Salida [10, 20, 30, 4, 5, [4, 5]]"
   ]
  },
  {
   "cell_type": "markdown",
   "metadata": {
    "id": "hG09mM1mImO3"
   },
   "source": [
    "### *Tuplas*\n",
    "\n",
    "Es un tipo de dato inmutable que no puede ser modificado una vez creado, a diferencia de las listas. Debido a esta característica, es ideal para programación que requiere un uso eficiente de la memoria. Los elementos de una tupla se encierran entre paréntesis `()` y se separan por comas. Una tupla contiene elementos ordenados y permite incluir diferentes tipos de datos en su composición. El siguiente ejemplo de código ilustra cómo definir una tupla y su eficiencia en comparación con una lista en términos de uso de memoria."
   ]
  },
  {
   "cell_type": "code",
   "execution_count": null,
   "metadata": {
    "colab": {
     "base_uri": "https://localhost:8080/"
    },
    "executionInfo": {
     "elapsed": 6,
     "status": "ok",
     "timestamp": 1737085998735,
     "user": {
      "displayName": "luis eduardo seijas ruiz",
      "userId": "15500502025174640084"
     },
     "user_tz": 300
    },
    "id": "-AtjIm9pI4ev",
    "outputId": "e4cff143-e8d2-4530-ddc5-d0fc84721c67"
   },
   "outputs": [],
   "source": [
    "import sys\n",
    "\n",
    "my_tuple_a =  (3,6,7,1.9, 'hola', [3,4], (8,10,12))   # Define y asigna un tupla\n",
    "my_list = [3,6,7,1.9, 'hola', [3,4], (8,10,12)]       # Define y asigna una lista\n",
    "print(sys.getsizeof(my_tuple_a))                      # Salida: tamaño de la tupla en bytes\n",
    "print(sys.getsizeof(my_list))                         # Salida: tamaño de la lista en bytes"
   ]
  },
  {
   "cell_type": "markdown",
   "metadata": {
    "id": "-6NpBUQFJs_I"
   },
   "source": [
    "Una tupla también se puede crear sin utilizar paréntesis, y cada uno de sus elementos se puede acceder utilizando corchetes."
   ]
  },
  {
   "cell_type": "code",
   "execution_count": null,
   "metadata": {
    "colab": {
     "base_uri": "https://localhost:8080/"
    },
    "executionInfo": {
     "elapsed": 235,
     "status": "ok",
     "timestamp": 1737086277106,
     "user": {
      "displayName": "luis eduardo seijas ruiz",
      "userId": "15500502025174640084"
     },
     "user_tz": 300
    },
    "id": "M5GYit-PJv1E",
    "outputId": "cc0a4489-b526-4dfc-8450-e76c14a1fae7"
   },
   "outputs": [],
   "source": [
    "my_tuple_b = 4, 3\n",
    "u, v = my_tuple_b\n",
    "print(u)                        # Salida 4\n",
    "print(v)                        # Salida 3\n",
    "my_tuple_c =  (5, 6, 7, 8, 9, 10, 11)\n",
    "print(my_tuple_c[0])            # Salida: 5\n",
    "print(my_tuple_c[1:3])          # Salida: (6, 7)\n",
    "# Genera un error\n",
    "# my_tuple_c[0] = 2\n",
    "# Los elmentos en una tupla no pueden ser cambiados una vez creados"
   ]
  },
  {
   "cell_type": "markdown",
   "metadata": {
    "id": "7NEIjBEEK5Gx"
   },
   "source": [
    "### *Strings*\n",
    "\n",
    "Cadenas de texto: Son secuencias de caracteres que se encierran entre comillas simples o dobles. Cada carácter en una posición específica de índice puede ser accedido utilizando corchetes `[]`. Las cadenas de texto son inmutables, por lo que no pueden ser modificadas una vez creadas."
   ]
  },
  {
   "cell_type": "code",
   "execution_count": null,
   "metadata": {
    "executionInfo": {
     "elapsed": 5,
     "status": "aborted",
     "timestamp": 1737085998735,
     "user": {
      "displayName": "luis eduardo seijas ruiz",
      "userId": "15500502025174640084"
     },
     "user_tz": 300
    },
    "id": "ZZL8QQ8uLJvh"
   },
   "outputs": [],
   "source": [
    "my_str_a = 'Hola'\n",
    "my_str_b = \"Hola\"\n",
    "my_str_c = 'bienvenidos'\n",
    "my_str_d = 'Completo'\n",
    "my_str_e = my_str_d[0]        # Extrae el caracter 'C' de la posicion [0]\n",
    "print(my_str_e)\n",
    "my_str_f = my_str_b + ' ' + my_str_c\n",
    "print(my_str_f)"
   ]
  },
  {
   "cell_type": "markdown",
   "metadata": {
    "id": "_P4wZJ7KMCtV"
   },
   "source": [
    "### *Sets*\n",
    "\n",
    "Representa un conjunto de elementos no ordenados, separados por comas y encerrados entre llaves `{}`, sin permitir duplicados. Un conjunto puede contener cualquier cantidad de elementos pertenecientes a tipos de datos inmutables (como enteros, flotantes, cadenas de texto, tuplas y booleanos), mientras que los tipos de datos mutables (como listas, diccionarios y otros conjuntos) generan un error. Además, no es posible realizar operaciones de segmentación ni indexación, ya que los elementos no tienen un orden específico."
   ]
  },
  {
   "cell_type": "code",
   "execution_count": null,
   "metadata": {
    "colab": {
     "base_uri": "https://localhost:8080/"
    },
    "executionInfo": {
     "elapsed": 192,
     "status": "ok",
     "timestamp": 1737086287294,
     "user": {
      "displayName": "luis eduardo seijas ruiz",
      "userId": "15500502025174640084"
     },
     "user_tz": 300
    },
    "id": "5vVznDseMYVU",
    "outputId": "a62ad411-ffa5-4cd7-a380-edddd1c5d529"
   },
   "outputs": [],
   "source": [
    "# Ejemplo de conjunto con datos inmutables\n",
    "my_set = {42, 3.14, \"python\", True, (1, 2, 3)}  # Conjunto válido\n",
    "print(type(my_set))                           # Salida: <class 'set'>\n",
    "print(my_set)                                  # Salida: {True, 3.14, 42, (1, 2, 3), 'python'}\n",
    "\n",
    "# Ejemplo de conjunto vacío y agregar elementos\n",
    "my_set_a = set()                           # Crea un conjunto vacío\n",
    "my_set_a.add(100)                          # Añade el número 100\n",
    "my_set_a.add(\"hola\")                       # Añade la cadena \"hola\"\n",
    "print(my_set_a)                            # Salida: {100, 'hola'}\n",
    "\n",
    "# Ejemplo de eliminación de elementos en un conjunto\n",
    "my_set_b = {10, 20, 30, 40}\n",
    "my_set_b.remove(20)                     # Elimina el elemento 20\n",
    "print(my_set_b)                         # Salida: {10, 30, 40}\n",
    "\n",
    "my_set_b.discard(50)                    # No genera error si el elemento no está\n",
    "print(my_set_b)                         # Salida: {10, 30, 40}\n",
    "\n",
    "# Ejemplo de conjuntos con operaciones de unión y diferencia\n",
    "my_set_c = {1, 2, 3}\n",
    "my_set_d = {3, 4, 5}\n",
    "print(my_set_c.union(my_set_d))                 # Salida: {1, 2, 3, 4, 5} (unión)\n",
    "print(my_set_c.difference(my_set_d))            # Salida: {1, 2} (diferencia)\n",
    "\n",
    "# Ejemplo de conjuntos con datos no duplicados\n",
    "my_set_e = {1, 2, 2, 3, 3, 3}     # Los duplicados son eliminados automáticamente\n",
    "print(my_set_e)                  # Salida: {1, 2, 3}\n",
    "\n",
    "# Ejemplo de error con un dato mutable en un conjunto\n",
    "# my_set_f = {1, 2, [3, 4]}                  # [3, 4] es una lista (mutable)\n",
    "# Esto generará un error: TypeError: unhashable type: 'list'"
   ]
  },
  {
   "cell_type": "markdown",
   "metadata": {
    "id": "sVOrf2pCNLJE"
   },
   "source": [
    "### *Diccionarios*\n",
    "\n",
    "Es una colección de elementos representada como pares clave-valor, separados por el operador de dos puntos (`:`) y encerrados entre llaves `{}`. Cada elemento está separado por comas y consta de una clave asociada a un valor correspondiente. Las claves deben ser de tipos de datos inmutables, mientras que los valores pueden pertenecer a cualquier tipo de dato. Las llaves vacías `{}` representan un diccionario vacío. Para acceder a cada elemento de un diccionario, se utilizan las claves junto con corchetes `[]`. Dado que los diccionarios son mutables, es posible agregar y eliminar valores de manera sencilla."
   ]
  },
  {
   "cell_type": "code",
   "execution_count": null,
   "metadata": {
    "colab": {
     "base_uri": "https://localhost:8080/"
    },
    "executionInfo": {
     "elapsed": 268,
     "status": "ok",
     "timestamp": 1737086291606,
     "user": {
      "displayName": "luis eduardo seijas ruiz",
      "userId": "15500502025174640084"
     },
     "user_tz": 300
    },
    "id": "RJwNus0POuwL",
    "outputId": "3f456636-fa98-451b-bded-aa62c42672ff"
   },
   "outputs": [],
   "source": [
    "# Definir un diccionario\n",
    "my_dict_a = {'id': 101, 'nombre': 'Ana', 'edad': 25}  # Define un diccionario\n",
    "my_dict_b = {}  # Diccionario vacío\n",
    "print(my_dict_a['nombre'])  # Imprime el valor asociado a la clave 'nombre': Salida: Ana\n",
    "\n",
    "# Actualizar un valor en el diccionario\n",
    "my_dict_a['edad'] = 26  # Actualiza el valor de la clave 'edad'\n",
    "print(my_dict_a)  # Salida: {'id': 101, 'nombre': 'Ana', 'edad': 26}\n",
    "\n",
    "# Eliminar un elemento usando del\n",
    "del my_dict_a['id']  # Elimina el elemento con clave 'id'\n",
    "print(my_dict_a)  # Salida: {'nombre': 'Ana', 'edad': 26}\n",
    "\n",
    "# Eliminar un elemento usando pop\n",
    "valor_eliminado = my_dict_a.pop('nombre')  # Elimina 'nombre' y devuelve su valor\n",
    "print(valor_eliminado)  # Salida: Ana\n",
    "print(my_dict_a)  # Salida: {'edad': 26}\n",
    "\n",
    "# Agregar un nuevo par clave-valor\n",
    "my_dict_a['ciudad'] = 'Madrid'  # Agrega una nueva clave 'ciudad' con su valor\n",
    "print(my_dict_a)  # Salida: {'edad': 26, 'ciudad': 'Madrid'}\n",
    "\n",
    "# Mezclar diferentes tipos de datos en claves y valores\n",
    "my_dict_c = {1: 'uno', 'dos': 2, 3.0: 'tres', (4, 5): [6, 7]}  # Claves y valores de varios tipos\n",
    "print(my_dict_c)  # Salida: {1: 'uno', 'dos': 2, 3.0: 'tres', (4, 5): [6, 7]}\n",
    "\n",
    "# Obtener todas las claves y valores\n",
    "print(my_dict_c.keys())  # Imprime todas las claves: dict_keys([1, 'dos', 3.0, (4, 5)])\n",
    "print(my_dict_c.values())  # Imprime todos los valores: dict_values(['uno', 2, 'tres', [6, 7]])\n"
   ]
  },
  {
   "cell_type": "markdown",
   "metadata": {
    "id": "e57wr8nvQAkB"
   },
   "source": [
    "#### **Problema 1: Manipulación de listas y diccionarios**\n",
    "\n",
    "\n",
    "Crea una lista: mi_lista = ['Perú', 'Juan', 25, 'México', 'Ana', 30].\n",
    "\n",
    "Extrae el primer, cuarto y sexto elemento de la lista y guárdalos en variables separadas.\n",
    "Crea un diccionario vacío con las claves diccionario = {'País': [ ], 'Nombre': [ ], 'Edad': [ ]}.\n",
    "Agrega los elementos extraídos como valores correspondientes a las claves del diccionario y muestra el resultado final"
   ]
  },
  {
   "cell_type": "code",
   "execution_count": 35,
   "metadata": {
    "executionInfo": {
     "elapsed": 243,
     "status": "ok",
     "timestamp": 1737086295314,
     "user": {
      "displayName": "luis eduardo seijas ruiz",
      "userId": "15500502025174640084"
     },
     "user_tz": 300
    },
    "id": "TvP21ltEQJLt"
   },
   "outputs": [],
   "source": [
    "# Escribe tú código aquí"
   ]
  },
  {
   "cell_type": "markdown",
   "metadata": {
    "id": "ISVu7gwHQRMR"
   },
   "source": [
    "#### **Problema 2: Actualización y eliminación en diccionarios**\n",
    "Define un diccionario inicial:\n",
    "mi_diccionario = {'Nombre': 'Luis', 'Edad': 28, 'País': 'Colombia', 'Ciudad': 'Bogotá'}.\n",
    "\n",
    "Cambia el valor asociado a la clave 'Ciudad' por 'Medellín' y añade una nueva clave 'Profesión' con el valor 'Ingeniero'.\n",
    "Elimina la clave 'Edad' del diccionario y guarda el valor eliminado en una variable.\n",
    "Imprime el diccionario final y el valor eliminado"
   ]
  },
  {
   "cell_type": "code",
   "execution_count": 36,
   "metadata": {
    "executionInfo": {
     "elapsed": 228,
     "status": "ok",
     "timestamp": 1737086296365,
     "user": {
      "displayName": "luis eduardo seijas ruiz",
      "userId": "15500502025174640084"
     },
     "user_tz": 300
    },
    "id": "bygADcyAQcrM"
   },
   "outputs": [],
   "source": [
    "# Escribe tú código aquí"
   ]
  },
  {
   "cell_type": "markdown",
   "metadata": {
    "id": "z064kBFRQesV"
   },
   "source": [
    "#### **Problema 3: Creación y mezcla de datos entre listas y diccionarios**\n",
    "\n",
    "Crea las siguientes estructuras:\n",
    "nombres = ['Carlos', 'Lucía', 'Ana']\n",
    "edades = [35, 29, 42]\n",
    "ciudades = ['Lima', 'Santiago', 'Buenos Aires'].\n",
    "\n",
    "Crea un diccionario vacío llamado personas y usa un bucle para agregar las claves 'Nombre', 'Edad' y 'Ciudad' con los valores correspondientes de las listas.\n",
    "Verifica si 'Lucía' está presente en la lista nombres y, de ser así, imprime la edad y la ciudad asociadas en el diccionario.\n",
    "Agrega una nueva entrada al diccionario con el nombre 'Jorge', edad 40 y ciudad 'Quito'. Imprime el diccionario final."
   ]
  },
  {
   "cell_type": "code",
   "execution_count": 37,
   "metadata": {
    "executionInfo": {
     "elapsed": 177,
     "status": "ok",
     "timestamp": 1737086298526,
     "user": {
      "displayName": "luis eduardo seijas ruiz",
      "userId": "15500502025174640084"
     },
     "user_tz": 300
    },
    "id": "YDWtkyI1QkfO"
   },
   "outputs": [],
   "source": [
    "# Escribe tú código aqui"
   ]
  },
  {
   "cell_type": "markdown",
   "metadata": {
    "id": "eJ62qL80QzsR"
   },
   "source": [
    "## **Sentencias, Indentación y Comentarios**  \n",
    "Las sentencias son instrucciones ejecutables escritas en el código fuente de Python. Entre los diferentes tipos de sentencias se encuentran las sentencias de impresión, asignación, condicionales, entre otras. En el caso de las sentencias `print`, cuando Python las ejecuta en la línea de comandos, produce un valor de salida, mientras que una sentencia de asignación no muestra ningún resultado. Las sentencias de varias líneas representan una continuación utilizando paréntesis `()`, llaves `{}`, corchetes `[]`, punto y coma `;` o el carácter de continuación de línea invertida `\\`."
   ]
  },
  {
   "cell_type": "code",
   "execution_count": null,
   "metadata": {
    "colab": {
     "base_uri": "https://localhost:8080/"
    },
    "executionInfo": {
     "elapsed": 168,
     "status": "ok",
     "timestamp": 1737086299780,
     "user": {
      "displayName": "luis eduardo seijas ruiz",
      "userId": "15500502025174640084"
     },
     "user_tz": 300
    },
    "id": "0CXDb3V0RAS-",
    "outputId": "8c8c7b69-c7ce-4385-8c36-a38b6d52b464"
   },
   "outputs": [],
   "source": [
    "print('Hola, mundo')  # Sentencia de impresión\n",
    "\n",
    "x = 20  # Sentencia de asignación\n",
    "\n",
    "# Sentencia de varias líneas utilizando el carácter de continuación \\\n",
    "suma_total = 10 + 20 + 30 + \\\n",
    "40 + 50 + 60 + \\\n",
    "70\n",
    "\n",
    "# Lista definida en varias líneas usando corchetes []\n",
    "elementos_naturales = [\n",
    "    'agua', 'tierra',\n",
    "    'fuego', 'aire'\n",
    "]\n",
    "\n",
    "print(suma_total)  # Salida: 280\n",
    "print(elementos_naturales)  # Salida: ['agua', 'tierra', 'fuego', 'aire']\n"
   ]
  },
  {
   "cell_type": "markdown",
   "metadata": {
    "id": "bQi-KHUSRYva"
   },
   "source": [
    "Un bloque consiste en un grupo de sentencias utilizadas para realizar una tarea específica. Python utiliza la indentación para indicar este bloque de código. Generalmente, en lenguajes como C, C++ y Java, se utilizan llaves `{}` para delimitar un bloque de código en particular, mientras que en Python se emplean espacios en blanco para indentar las sentencias. La indentación desplaza las sentencias hacia la derecha, utilizando la misma cantidad de espacios para todas las sentencias del mismo bloque."
   ]
  },
  {
   "cell_type": "code",
   "execution_count": null,
   "metadata": {
    "colab": {
     "base_uri": "https://localhost:8080/"
    },
    "executionInfo": {
     "elapsed": 218,
     "status": "ok",
     "timestamp": 1737086302182,
     "user": {
      "displayName": "luis eduardo seijas ruiz",
      "userId": "15500502025174640084"
     },
     "user_tz": 300
    },
    "id": "9x-Qy_yLRZ_v",
    "outputId": "10b75c8e-3e2e-44fa-8f75-96b1360aff44"
   },
   "outputs": [],
   "source": [
    "# Ejemplo 1: Uso correcto de bloques con indentación\n",
    "numero = 5\n",
    "if numero < 0:\n",
    "    print('Número negativo')  # Este bloque se ejecuta si el número es negativo\n",
    "elif numero == 0:\n",
    "    print('Ni positivo ni negativo')  # Este bloque se ejecuta si el número es cero\n",
    "else:\n",
    "    print('Número positivo')  # Este bloque se ejecuta si el número es positivo"
   ]
  },
  {
   "cell_type": "code",
   "execution_count": null,
   "metadata": {
    "colab": {
     "base_uri": "https://localhost:8080/",
     "height": 106
    },
    "executionInfo": {
     "elapsed": 208,
     "status": "error",
     "timestamp": 1737086304036,
     "user": {
      "displayName": "luis eduardo seijas ruiz",
      "userId": "15500502025174640084"
     },
     "user_tz": 300
    },
    "id": "1nmlzWoBRrbL",
    "outputId": "cea3f298-0e9c-40c4-e033-06efff85dbe4"
   },
   "outputs": [],
   "source": [
    "# Ejemplo 2: Error de indentación\n",
    "numero = 10\n",
    "if numero % 2 == 0:  # Condición para verificar si el número es divisible por 2\n",
    "print('10 es divisible por 2')  # Error de indentación\n",
    "    print('10 es un múltiplo de 2')  # Error de indentación\n",
    "# Esto generará un error: IndentationError: expected an indented block"
   ]
  },
  {
   "cell_type": "code",
   "execution_count": null,
   "metadata": {
    "colab": {
     "base_uri": "https://localhost:8080/"
    },
    "executionInfo": {
     "elapsed": 221,
     "status": "ok",
     "timestamp": 1737086309650,
     "user": {
      "displayName": "luis eduardo seijas ruiz",
      "userId": "15500502025174640084"
     },
     "user_tz": 300
    },
    "id": "YHZjm6jyRw1Z",
    "outputId": "452a02a3-714b-41ed-d972-4d38784f8ee4"
   },
   "outputs": [],
   "source": [
    "# Ejemplo 3: Corrección del error de indentación\n",
    "numero = 10\n",
    "if numero % 2 == 0:  # Condición para verificar si el número es divisible por 2\n",
    "    print('10 es divisible por 2')  # Indentación correcta\n",
    "    print('10 es un múltiplo de 2')  # Indentación correcta"
   ]
  },
  {
   "cell_type": "markdown",
   "metadata": {
    "id": "KR7N6tfER-Rw"
   },
   "source": [
    "En Python, los comentarios de una sola línea se indican utilizando el símbolo de numeral #. Para comentarios de varias líneas, se puede utilizar el símbolo # al inicio de cada línea. Otra forma de representar comentarios de varias líneas es utilizando cadenas de texto delimitadas por comillas triples, ya sean ''' o \"\"\"."
   ]
  },
  {
   "cell_type": "code",
   "execution_count": null,
   "metadata": {
    "colab": {
     "base_uri": "https://localhost:8080/"
    },
    "executionInfo": {
     "elapsed": 203,
     "status": "ok",
     "timestamp": 1737086312157,
     "user": {
      "displayName": "luis eduardo seijas ruiz",
      "userId": "15500502025174640084"
     },
     "user_tz": 300
    },
    "id": "zQMqga4lSFWv",
    "outputId": "57976ff6-47e2-4941-c753-064da5634a38"
   },
   "outputs": [],
   "source": [
    "# Esto es un comentario de una sola línea\n",
    "\n",
    "# Ejemplo de comentario de varias líneas utilizando #\n",
    "# Línea 1 del comentario\n",
    "# Línea 2 del comentario\n",
    "# Línea 3 del comentario\n",
    "\n",
    "# Ejemplo de comentario de varias líneas utilizando comillas triples\n",
    "\"\"\"\n",
    "Este es un comentario de varias líneas\n",
    "utilizando comillas triples dobles.\n",
    "Puedes escribir tantas líneas como quieras.\n",
    "\"\"\"\n",
    "\n",
    "'''\n",
    "También puedes usar comillas triples simples\n",
    "para escribir comentarios de varias líneas.\n",
    "Este es otro ejemplo.\n",
    "'''\n",
    "\n",
    "# Código funcional con comentarios\n",
    "x = 10  # Asignación del valor 10 a la variable x\n",
    "y = 20  # Asignación del valor 20 a la variable y\n",
    "\n",
    "# Cálculo de la suma de x e y\n",
    "suma = x + y  # Realiza la suma de x e y\n",
    "print(suma)  # Salida: 30\n"
   ]
  },
  {
   "cell_type": "markdown",
   "metadata": {
    "id": "DrZJNmb5SLD2"
   },
   "source": [
    "## **Sentencias Condicionales**\n",
    "En Python, la toma de decisiones se realiza evaluando ciertas condiciones durante la ejecución de un programa. La sentencia if se utiliza para verificar si una expresión booleana es True o False. Si la condición resulta ser falsa, se ejecuta la sentencia else o elif, según corresponda."
   ]
  },
  {
   "cell_type": "code",
   "execution_count": null,
   "metadata": {
    "colab": {
     "base_uri": "https://localhost:8080/"
    },
    "executionInfo": {
     "elapsed": 222,
     "status": "ok",
     "timestamp": 1737086314386,
     "user": {
      "displayName": "luis eduardo seijas ruiz",
      "userId": "15500502025174640084"
     },
     "user_tz": 300
    },
    "id": "Bg0BlD04ScXP",
    "outputId": "bcaae6d8-51be-4ef2-da98-1ccad8fcfcac"
   },
   "outputs": [],
   "source": [
    "# Ejemplo 1: Uso básico de if-else\n",
    "edad = 20\n",
    "if edad >= 18:\n",
    "    print(\"Eres mayor de edad.\")  # Se ejecuta si la condición es True\n",
    "else:\n",
    "    print(\"Eres menor de edad.\")  # Se ejecuta si la condición es False"
   ]
  },
  {
   "cell_type": "code",
   "execution_count": null,
   "metadata": {
    "colab": {
     "base_uri": "https://localhost:8080/"
    },
    "executionInfo": {
     "elapsed": 195,
     "status": "ok",
     "timestamp": 1737086338681,
     "user": {
      "displayName": "luis eduardo seijas ruiz",
      "userId": "15500502025174640084"
     },
     "user_tz": 300
    },
    "id": "80tLkN_Yad7e",
    "outputId": "f8224258-6d59-4635-b854-cc6e34436e60"
   },
   "outputs": [],
   "source": [
    "# Ejemplo 2: Uso de if-elif-else\n",
    "nota = 85\n",
    "if nota >= 90:\n",
    "    print(\"Calificación: A\")  # Si la nota es 90 o más\n",
    "elif nota >= 80:\n",
    "    print(\"Calificación: B\")  # Si la nota está entre 80 y 89\n",
    "elif nota >= 70:\n",
    "    print(\"Calificación: C\")  # Si la nota está entre 70 y 79\n",
    "else:\n",
    "    print(\"Calificación: F\")  # Si la nota es menor a 70"
   ]
  },
  {
   "cell_type": "code",
   "execution_count": null,
   "metadata": {
    "colab": {
     "base_uri": "https://localhost:8080/"
    },
    "executionInfo": {
     "elapsed": 188,
     "status": "ok",
     "timestamp": 1737086340129,
     "user": {
      "displayName": "luis eduardo seijas ruiz",
      "userId": "15500502025174640084"
     },
     "user_tz": 300
    },
    "id": "ZQ6c1QHyafoX",
    "outputId": "ceba3d56-0fef-40e8-dd4f-07abb5605b9d"
   },
   "outputs": [],
   "source": [
    "# Ejemplo 3: Sentencia condicional con operadores lógicos\n",
    "hora = 14\n",
    "if hora >= 6 and hora < 12:\n",
    "    print(\"Buenos días\")  # Se ejecuta si la hora está entre 6 y 12\n",
    "elif hora >= 12 and hora < 18:\n",
    "    print(\"Buenas tardes\")  # Se ejecuta si la hora está entre 12 y 18\n",
    "else:\n",
    "    print(\"Buenas noches\")  # Se ejecuta para cualquier otro caso"
   ]
  },
  {
   "cell_type": "markdown",
   "metadata": {
    "id": "KeQGTtzzSeaQ"
   },
   "source": [
    "## **Bucles (Loops)**\n",
    "\n",
    "Los bucles se utilizan para ejecutar repetidamente el mismo bloque de código varias veces. Los iteradores más comunes son el bucle for y el bucle while. El bucle for recorre una secuencia de números hasta alcanzar el último elemento de la secuencia. La función range es frecuentemente utilizada con el bucle for y puede ser llamada de varias formas. Por ejemplo, en su uso más simple, range(stop) genera una secuencia desde 0 hasta el número especificado (sin incluirlo)."
   ]
  },
  {
   "cell_type": "code",
   "execution_count": null,
   "metadata": {
    "colab": {
     "base_uri": "https://localhost:8080/"
    },
    "executionInfo": {
     "elapsed": 187,
     "status": "ok",
     "timestamp": 1737086373876,
     "user": {
      "displayName": "luis eduardo seijas ruiz",
      "userId": "15500502025174640084"
     },
     "user_tz": 300
    },
    "id": "_5BtTKdZSiVi",
    "outputId": "fe1e9b01-3eff-4177-f364-2957d874847b"
   },
   "outputs": [],
   "source": [
    "# Ejemplo 1: Uso básico del bucle for con range(stop)\n",
    "for i in range(5):  # Itera desde 0 hasta 4\n",
    "    print(i)  # Salida: 0, 1, 2, 3, 4"
   ]
  },
  {
   "cell_type": "code",
   "execution_count": null,
   "metadata": {
    "colab": {
     "base_uri": "https://localhost:8080/"
    },
    "executionInfo": {
     "elapsed": 220,
     "status": "ok",
     "timestamp": 1737086375360,
     "user": {
      "displayName": "luis eduardo seijas ruiz",
      "userId": "15500502025174640084"
     },
     "user_tz": 300
    },
    "id": "8nbbqR_vakAm",
    "outputId": "cf0376cf-05c0-42e0-cc39-427473f7a695"
   },
   "outputs": [],
   "source": [
    "# Ejemplo 2: Uso del bucle for con range(start, stop)\n",
    "for i in range(3, 8):  # Itera desde 3 hasta 7\n",
    "    print(i)  # Salida: 3, 4, 5, 6, 7"
   ]
  },
  {
   "cell_type": "code",
   "execution_count": null,
   "metadata": {
    "colab": {
     "base_uri": "https://localhost:8080/"
    },
    "executionInfo": {
     "elapsed": 183,
     "status": "ok",
     "timestamp": 1737086381797,
     "user": {
      "displayName": "luis eduardo seijas ruiz",
      "userId": "15500502025174640084"
     },
     "user_tz": 300
    },
    "id": "XnkEKA_DamWU",
    "outputId": "f85a3a3c-2c9b-4aac-de3e-bd63a7436236"
   },
   "outputs": [],
   "source": [
    "# Ejemplo 3: Uso del bucle for con range(start, stop, step)\n",
    "for i in range(2, 11, 2):  # Itera desde 2 hasta 10 en pasos de 2\n",
    "    print(i)  # Salida: 2, 4, 6, 8, 10"
   ]
  },
  {
   "cell_type": "code",
   "execution_count": null,
   "metadata": {
    "colab": {
     "base_uri": "https://localhost:8080/"
    },
    "executionInfo": {
     "elapsed": 187,
     "status": "ok",
     "timestamp": 1737086383343,
     "user": {
      "displayName": "luis eduardo seijas ruiz",
      "userId": "15500502025174640084"
     },
     "user_tz": 300
    },
    "id": "bSvnDJgvaoFQ",
    "outputId": "78ebf160-a3d7-48c3-cfcc-c616b08a0795"
   },
   "outputs": [],
   "source": [
    "# Ejemplo 4: Iterar sobre una lista con for\n",
    "nombres = [\"Ana\", \"Luis\", \"Pedro\"]\n",
    "for nombre in nombres:  # Recorre cada elemento de la lista\n",
    "    print(f\"Hola, {nombre}!\")  # Salida: Hola, Ana! Hola, Luis! Hola, Pedro!"
   ]
  },
  {
   "cell_type": "code",
   "execution_count": null,
   "metadata": {
    "colab": {
     "base_uri": "https://localhost:8080/"
    },
    "executionInfo": {
     "elapsed": 252,
     "status": "ok",
     "timestamp": 1737086385011,
     "user": {
      "displayName": "luis eduardo seijas ruiz",
      "userId": "15500502025174640084"
     },
     "user_tz": 300
    },
    "id": "RpInJNqYS5K_",
    "outputId": "71a89431-4761-4f58-b149-1ea9886ac6ea"
   },
   "outputs": [],
   "source": [
    "# Ejemplo 5: Uso del bucle while\n",
    "contador = 0\n",
    "while contador < 5:  # Continúa mientras la condición sea verdadera\n",
    "    print(\"Contador:\", contador)  # Muestra el valor del contador\n",
    "    contador += 1  # Incrementa el contador\n",
    "# Salida: Contador: 0, Contador: 1, Contador: 2, Contador: 3, Contador: 4"
   ]
  },
  {
   "cell_type": "markdown",
   "metadata": {
    "id": "c7GTC5s7TE6S"
   },
   "source": [
    "Los bucles también incluyen sentencias de control como break, continue y pass. Estas sentencias permiten alterar el flujo normal del bucle. Por ejemplo, un bucle puede terminarse prematuramente utilizando la sentencia break."
   ]
  },
  {
   "cell_type": "code",
   "execution_count": null,
   "metadata": {
    "colab": {
     "base_uri": "https://localhost:8080/"
    },
    "executionInfo": {
     "elapsed": 164,
     "status": "ok",
     "timestamp": 1737086390028,
     "user": {
      "displayName": "luis eduardo seijas ruiz",
      "userId": "15500502025174640084"
     },
     "user_tz": 300
    },
    "id": "Z8kdjCz4TGG9",
    "outputId": "17bb8dd5-386d-4040-e8c3-7af340db15ce"
   },
   "outputs": [],
   "source": [
    "# Ejemplo 1: Uso de break\n",
    "for i in range(10):  # Itera del 0 al 9\n",
    "    if i == 5:  # Condición para detener el bucle\n",
    "        print(\"Bucle detenido en:\", i)\n",
    "        break  # Sale del bucle\n",
    "    print(i)  # Muestra los números hasta que se cumple la condición\n",
    "# Salida: 0, 1, 2, 3, 4, \"Bucle detenido en: 5\""
   ]
  },
  {
   "cell_type": "code",
   "execution_count": null,
   "metadata": {
    "colab": {
     "base_uri": "https://localhost:8080/"
    },
    "executionInfo": {
     "elapsed": 185,
     "status": "ok",
     "timestamp": 1737086393014,
     "user": {
      "displayName": "luis eduardo seijas ruiz",
      "userId": "15500502025174640084"
     },
     "user_tz": 300
    },
    "id": "tA7OXky-TLpr",
    "outputId": "c10f1eb5-6014-4eda-9f28-3fc41e16f160"
   },
   "outputs": [],
   "source": [
    "# Ejemplo 2: Uso de continue\n",
    "for i in range(5):  # Itera del 0 al 4\n",
    "    if i == 2:  # Condición para saltar el resto del bucle actual\n",
    "        continue  # Salta a la siguiente iteración\n",
    "    print(i)  # Muestra todos los números excepto el 2\n",
    "# Salida: 0, 1, 3, 4"
   ]
  },
  {
   "cell_type": "code",
   "execution_count": null,
   "metadata": {
    "colab": {
     "base_uri": "https://localhost:8080/"
    },
    "executionInfo": {
     "elapsed": 226,
     "status": "ok",
     "timestamp": 1737086394642,
     "user": {
      "displayName": "luis eduardo seijas ruiz",
      "userId": "15500502025174640084"
     },
     "user_tz": 300
    },
    "id": "7_4PhewNTNU0",
    "outputId": "35c480bd-71d2-4ca1-d093-05d5886545c8"
   },
   "outputs": [],
   "source": [
    "# Ejemplo 3: Uso de pass\n",
    "for i in range(3):  # Itera del 0 al 2\n",
    "    if i == 1:  # Condición donde no se hace nada\n",
    "        pass  # Sentencia vacía, se utiliza como marcador de posición\n",
    "    print(f\"Valor de i: {i}\")\n",
    "# Salida: \"Valor de i: 0\", \"Valor de i: 1\", \"Valor de i: 2\""
   ]
  },
  {
   "cell_type": "code",
   "execution_count": null,
   "metadata": {
    "colab": {
     "base_uri": "https://localhost:8080/"
    },
    "executionInfo": {
     "elapsed": 207,
     "status": "ok",
     "timestamp": 1737086396770,
     "user": {
      "displayName": "luis eduardo seijas ruiz",
      "userId": "15500502025174640084"
     },
     "user_tz": 300
    },
    "id": "x-bJ3SrTTP5S",
    "outputId": "99ec64de-7211-41d3-e5a8-7fb19ec9325a"
   },
   "outputs": [],
   "source": [
    "# Ejemplo 4: Uso combinado de break y continue\n",
    "for i in range(10):  # Itera del 0 al 9\n",
    "    if i % 2 == 0:  # Salta los números pares\n",
    "        continue\n",
    "    if i > 7:  # Detiene el bucle si i es mayor que 7\n",
    "        break\n",
    "    print(i)  # Muestra solo los números impares menores o iguales a 7\n",
    "# Salida: 1, 3, 5, 7"
   ]
  },
  {
   "cell_type": "markdown",
   "metadata": {
    "id": "OaaXRhl-TxFs"
   },
   "source": [
    "#### **Problema 4: Crear un patrón de reloj de arena con asteriscos `*`**\n",
    "\n",
    "Usa un bucle anidado `for` para generar un patrón de reloj de arena utilizando `*`.\n",
    "```\n",
    "*********\n",
    " *******\n",
    "  *****\n",
    "   ***\n",
    "    *\n",
    "   ***\n",
    "  *****\n",
    " *******\n",
    "*********\n",
    "```\n",
    "\n",
    "\n"
   ]
  },
  {
   "cell_type": "code",
   "execution_count": null,
   "metadata": {
    "id": "v9pUu_Bbav1_"
   },
   "outputs": [],
   "source": [
    "# Escribe tú código aquí"
   ]
  },
  {
   "cell_type": "markdown",
   "metadata": {
    "id": "_ul5wN_-VFpz"
   },
   "source": [
    "## **Funciones**\n",
    "\n",
    "Una función es un bloque de código reutilizable que se utiliza para realizar una tarea específica. Las funciones ayudan a estructurar el código y a eliminar repeticiones innecesarias. Cada función comienza con la palabra clave `def`, seguida del nombre de la función. A continuación, se pueden pasar parámetros a la función o dejar este paso vacío. Después de esto, se define el cuerpo de la función, que puede incluir un valor de retorno opcional al final."
   ]
  },
  {
   "cell_type": "code",
   "execution_count": null,
   "metadata": {
    "colab": {
     "base_uri": "https://localhost:8080/"
    },
    "executionInfo": {
     "elapsed": 161,
     "status": "ok",
     "timestamp": 1737086415005,
     "user": {
      "displayName": "luis eduardo seijas ruiz",
      "userId": "15500502025174640084"
     },
     "user_tz": 300
    },
    "id": "TxlqgYFmVJqA",
    "outputId": "989ecb54-2e04-4ead-8033-849c655f1bf1"
   },
   "outputs": [],
   "source": [
    "def multiplicacion(x, y):  # Nombre de la función y parámetros\n",
    "    resultado = x * y  # Cuerpo de la función\n",
    "    return resultado  # Retorna el valor de la multiplicación\n",
    "\n",
    "# Aquí termina la definición de la función\n",
    "# Nota el cambio de indentación en las siguientes líneas\n",
    "\n",
    "num1 = 6\n",
    "num2 = 7\n",
    "producto = multiplicacion(num1, num2)  # Llama a la función con los valores num1 y num2\n",
    "print(producto)  # Salida: 42"
   ]
  },
  {
   "cell_type": "markdown",
   "metadata": {
    "id": "RxUPUpzlVcwl"
   },
   "source": [
    "Una variable puede definirse tanto dentro como fuera de una función, lo que determina el alcance de la misma. Si se define dentro de una función, tiene un alcance local, mientras que si se define fuera de la función, posee un alcance global."
   ]
  },
  {
   "cell_type": "code",
   "execution_count": null,
   "metadata": {
    "colab": {
     "base_uri": "https://localhost:8080/"
    },
    "executionInfo": {
     "elapsed": 205,
     "status": "ok",
     "timestamp": 1737086417115,
     "user": {
      "displayName": "luis eduardo seijas ruiz",
      "userId": "15500502025174640084"
     },
     "user_tz": 300
    },
    "id": "4So7gsYxVd2V",
    "outputId": "a60ff988-ef26-4089-86f6-71dc72aeb0d7"
   },
   "outputs": [],
   "source": [
    "# Variable definida fuera de la función (alcance global)\n",
    "x = 10\n",
    "\n",
    "def mi_funcion():\n",
    "    # Variable definida dentro de la función (alcance local)\n",
    "    y = 20\n",
    "    print(\"Dentro de la función:\")\n",
    "    print(\"x (global):\", x)  # Accede a la variable global\n",
    "    print(\"y (local):\", y)  # Accede a la variable local\n",
    "\n",
    "# Llamada a la función\n",
    "mi_funcion()\n",
    "\n",
    "print(\"\\nFuera de la función:\")\n",
    "print(\"x (global):\", x)  # Accede a la variable global\n",
    "\n",
    "# Intentar acceder a y fuera de la función generará un error\n",
    "# print(\"y (local):\", y)  # Esto provocará un NameError\n"
   ]
  },
  {
   "cell_type": "markdown",
   "metadata": {
    "id": "1M-QFnR9V0YQ"
   },
   "source": [
    "## **Objetos y Clases**\n",
    "\n",
    "Python utiliza un modelo de programación orientado a objetos para diseñar y representar programas mediante clases y objetos. Una clase es un diseño definido por el usuario que describe un objeto, mientras que un objeto es un conjunto de variables y funciones que constituyen una instancia de esa clase. El proceso de declarar un objeto se conoce como instanciación.\n",
    "\n",
    "El cuerpo de una clase incluye dos elementos principales: atributos y métodos. Los **atributos** representan las propiedades de un objeto, mientras que los **métodos** son funciones que describen los comportamientos del objeto. Por ejemplo, una clase puede definirse como un prototipo de un teléfono inteligente, con atributos como marca, color, cámara y capacidad de almacenamiento. Los métodos serían las actividades realizadas con el teléfono, como hacer llamadas, enviar mensajes de texto, jugar videojuegos, etc., y el objeto sería el propio teléfono inteligente."
   ]
  },
  {
   "cell_type": "code",
   "execution_count": null,
   "metadata": {
    "colab": {
     "base_uri": "https://localhost:8080/"
    },
    "executionInfo": {
     "elapsed": 355,
     "status": "ok",
     "timestamp": 1737086419911,
     "user": {
      "displayName": "luis eduardo seijas ruiz",
      "userId": "15500502025174640084"
     },
     "user_tz": 300
    },
    "id": "57ucsr5UV3Iw",
    "outputId": "714e13e4-a0c1-45a5-d1a0-013188006b28"
   },
   "outputs": [],
   "source": [
    "class Vehiculo:  # Definición de la clase\n",
    "    def __init__(self, tipo, velocidad_maxima):\n",
    "        self.tipo = tipo  # Atributo que define el tipo de vehículo\n",
    "        self.velocidad_maxima = velocidad_maxima  # Atributo que define la velocidad máxima\n",
    "\n",
    "    def clasificacion(self):  # Método que define el comportamiento del objeto\n",
    "        if self.velocidad_maxima > 200:\n",
    "            return 'Alto rendimiento'\n",
    "        elif 100 <= self.velocidad_maxima <= 200:\n",
    "            return 'Rendimiento medio'\n",
    "        else:\n",
    "            return 'Bajo rendimiento'\n",
    "\n",
    "# Creación de un objeto Vehiculo\n",
    "vehiculo1 = Vehiculo('Automóvil', 150)\n",
    "rendimiento = vehiculo1.clasificacion()\n",
    "\n",
    "# Impresión de atributos y resultado del método\n",
    "print(vehiculo1.tipo)  # Salida: Automóvil\n",
    "print(vehiculo1.velocidad_maxima)  # Salida: 150\n",
    "print(vehiculo1.tipo, \":\", rendimiento)  # Salida: Automóvil : Rendimiento medio\n"
   ]
  },
  {
   "cell_type": "markdown",
   "metadata": {
    "id": "18Rf_fK4WHcc"
   },
   "source": [
    "\n",
    "En el ejemplo anterior, hemos creado una clase para representar vehículos. A diferencia de las funciones, que utilizan la palabra clave def, las clases se definen con la palabra clave class, seguida por el nombre de la clase, que debe comenzar con una letra mayúscula.\n",
    "\n",
    "La clase contiene el método especial `__init__()` que se ejecuta automáticamente al crear una nueva instancia de la clase. Este método inicializa el estado del objeto y recibe varios parámetros, siendo el primero siempre self, que representa la instancia del objeto que se está creando. En este caso, los atributos tipo y velocidad_maxima representan las características del vehículo.\n",
    "\n",
    "Además, hemos definido un método llamado `clasificacion()`, que clasifica el vehículo según su velocidad máxima. Posteriormente, creamos un objeto llamado vehiculo1 con los parámetros \"Automóvil\" y 150. Finalmente, utilizamos el método `clasificacion()` para evaluar el rendimiento del vehículo y mostramos los resultados junto con los atributos del objeto."
   ]
  },
  {
   "cell_type": "markdown",
   "metadata": {
    "id": "BY-AyMb3WqZ1"
   },
   "source": [
    "#### **Ejemplo 1: (Definición de conjuntos de datos utilizando clases)**\n",
    "En este ejemplo, utilizamos arreglos de NumPy y clases para definir conjuntos de datos simples.\n",
    "\n",
    "Primero, definimos una clase llamada `data`, que genera conjuntos de datos básicos. En este caso, los conjuntos de datos corresponden al **problema XOR** y al **problema de círculos**. Estos se crean mediante dos métodos: `data_xor` y `data_circle`.\n",
    "\n",
    "Los dos atributos principales utilizados en ambos métodos son `self.N` y `self.sigma`, que representan la cantidad de datos por clúster y la desviación estándar de los clústeres, respectivamente. Además, el método `data_xor` incluye un atributo de instancia llamado `classes`, que representa las etiquetas de los clústeres.\n",
    "\n",
    "El **problema XOR (OR exclusivo)** es un problema clásico en el aprendizaje automático. Se basa en la función lógica XOR, que devuelve verdadero si una de las entradas es verdadera, pero no ambas. Geométricamente, esto se traduce en dos clases que no son linealmente separables, lo que significa que un modelo simple como un perceptrón no puede clasificarlas correctamente sin transformaciones no lineales o redes neuronales con capas ocultas. En este ejemplo, los datos se generan en forma de cuatro grupos distribuidos en los cuadrantes del plano cartesiano, con etiquetas alternadas para simular el comportamiento XOR.\n",
    "\n",
    "Por otro lado, el **problema de círculos** genera datos organizados en dos anillos concéntricos. Este conjunto de datos también es un ejemplo de datos no linealmente separables, donde los puntos de cada clase están distribuidos en círculos diferentes.\n",
    "\n",
    "Estos conjuntos de datos son ideales para probar algoritmos de aprendizaje automático, especialmente aquellos que abordan problemas no lineales."
   ]
  },
  {
   "cell_type": "code",
   "execution_count": null,
   "metadata": {
    "colab": {
     "base_uri": "https://localhost:8080/",
     "height": 571
    },
    "executionInfo": {
     "elapsed": 1392,
     "status": "ok",
     "timestamp": 1737086171096,
     "user": {
      "displayName": "luis eduardo seijas ruiz",
      "userId": "15500502025174640084"
     },
     "user_tz": 300
    },
    "id": "C3sfK9bZXlth",
    "outputId": "42026e4d-c493-4d3d-e5e8-10a753ff1996"
   },
   "outputs": [],
   "source": [
    "import numpy as np\n",
    "import matplotlib.pyplot as plt\n",
    "\n",
    "class Data:  # Definir la clase\n",
    "    def __init__(self, N, sigma):\n",
    "        self.N = N  # Número de datos por clúster\n",
    "        self.sigma = sigma  # Desviación estándar de los clústeres\n",
    "\n",
    "    def data_xor(self, classes):\n",
    "        # Generar 4*N vectores aleatorios (gaussianos) centrados en cero\n",
    "        X = self.sigma * np.random.randn(2, 4 * self.N)\n",
    "        mean = np.array([[-1, -1, 1, 1], [-1, 1, -1, 1]])  # Definir cuatro medias\n",
    "        M = np.ones((self.N, 2)) * mean[:, 0]  # Medias del primer clúster\n",
    "        y = np.ones((1, self.N)) * classes[0]  # Etiquetas del primer clúster\n",
    "\n",
    "        for i in range(1, 4):\n",
    "            m = np.ones((self.N, 2)) * mean[:, i]  # Medias del clúster i\n",
    "            M = np.concatenate((M, m))  # Concatenar todas las medias\n",
    "            y = np.concatenate((y, np.ones((1, self.N)) * classes[i]), axis=1)  # Concatenar etiquetas\n",
    "\n",
    "        M = M.T\n",
    "        X = X + M  # Sumar las medias a los datos\n",
    "        return X, y\n",
    "\n",
    "    def data_circle(self):\n",
    "        # Generar datos circulares para clase 0\n",
    "        theta = np.random.rand(1, self.N) * 2 * np.pi\n",
    "        rho = np.random.randn(1, self.N) * self.sigma + 1\n",
    "        X1 = rho * np.block([[np.cos(theta)], [np.sin(theta)]])  # Datos de clase 0\n",
    "\n",
    "        # Generar datos circulares para clase 1\n",
    "        theta = np.random.rand(1, self.N) * 2 * np.pi\n",
    "        rho = np.random.randn(1, self.N) * self.sigma + 0.\n",
    "        X2 = rho * np.block([[np.cos(theta)], [np.sin(theta)]])  # Datos de clase 1\n",
    "\n",
    "        y = np.concatenate((np.zeros((1, self.N)), np.ones((1, self.N))), axis=1)  # Etiquetas\n",
    "        X = np.concatenate((X1, X2), axis=1)\n",
    "        return X, y\n",
    "\n",
    "# Configurar la semilla para reproducir resultados\n",
    "np.random.seed(50)\n",
    "\n",
    "# Atributos para el problema XOR\n",
    "N = 100\n",
    "sigma = 0.6\n",
    "classes = [0, 1, 1, 0]\n",
    "\n",
    "# Atributos para el problema de círculos\n",
    "N1 = 250\n",
    "sigma1 = 0.05\n",
    "\n",
    "# Crear objetos\n",
    "T = Data(N, sigma)  # Objeto para los datos XOR\n",
    "T1 = Data(N1, sigma1)  # Objeto para los datos de círculos\n",
    "\n",
    "# Generar los conjuntos de datos\n",
    "X, y = T.data_xor(classes)  # Método para generar datos XOR\n",
    "X1, y1 = T1.data_circle()  # Método para generar datos de círculos\n",
    "\n",
    "# Mostrar tipos y formas de los datos generados\n",
    "print(\"Datos XOR:\")\n",
    "print(f\"X: tipo={type(X)}, forma={X.shape}\")\n",
    "print(f\"y: tipo={type(y)}, forma={y.shape}\")\n",
    "\n",
    "print(\"\\nDatos Circulares:\")\n",
    "print(f\"X1: tipo={type(X1)}, forma={X1.shape}\")\n",
    "print(f\"y1: tipo={type(y1)}, forma={y1.shape}\")\n",
    "\n",
    "# Graficar los datos XOR\n",
    "plt.figure(figsize=(12, 6))\n",
    "\n",
    "plt.subplot(1, 2, 1)\n",
    "plt.scatter(X[0, y[0] == 0], X[1, y[0] == 0], label=\"Clase 0\", alpha=0.7)\n",
    "plt.scatter(X[0, y[0] == 1], X[1, y[0] == 1], label=\"Clase 1\", alpha=0.7)\n",
    "plt.title(\"Datos XOR\")\n",
    "plt.xlabel(\"X1\")\n",
    "plt.ylabel(\"X2\")\n",
    "plt.legend()\n",
    "\n",
    "# Graficar los datos circulares\n",
    "plt.subplot(1, 2, 2)\n",
    "plt.scatter(X1[0, y1[0] == 0], X1[1, y1[0] == 0], label=\"Clase 0\", alpha=0.7)\n",
    "plt.scatter(X1[0, y1[0] == 1], X1[1, y1[0] == 1], label=\"Clase 1\", alpha=0.7)\n",
    "plt.title(\"Datos Circulares\")\n",
    "plt.xlabel(\"X1\")\n",
    "plt.ylabel(\"X2\")\n",
    "plt.legend()\n",
    "\n",
    "plt.tight_layout()\n",
    "plt.show()\n"
   ]
  }
 ],
 "metadata": {
  "colab": {
   "authorship_tag": "ABX9TyNF0cWZbUIO/rkXfB6LS/sd",
   "provenance": [
    {
     "file_id": "1Y2I2XNcVbvMeHSD3ojfykQR8Q_OtJgoE",
     "timestamp": 1737077751162
    }
   ]
  },
  "kernelspec": {
   "display_name": ".venv",
   "language": "python",
   "name": "python3"
  },
  "language_info": {
   "name": "python",
   "version": "3.12.8"
  }
 },
 "nbformat": 4,
 "nbformat_minor": 0
}
